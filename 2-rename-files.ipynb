{
 "cells": [
  {
   "cell_type": "code",
   "execution_count": null,
   "metadata": {},
   "outputs": [],
   "source": [
    "# Rename Files\n",
    "### This code ensure that every image didn't has the same name, so I add unique id after the image name"
   ]
  },
  {
   "cell_type": "code",
   "execution_count": null,
   "metadata": {},
   "outputs": [],
   "source": [
    "import os\n",
    "folder_path = \"\"\n",
    "i=0\n",
    "old = '.jpg'\n",
    "for path, subdirs, files in os.walk(folder_path):\n",
    "    for name in files:\n",
    "        i+=1\n",
    "        if(old.lower() in name.lower()):\n",
    "            file_path = os.path.join(path,name)\n",
    "            new = '-'+str(i)+'.jpg'\n",
    "            new_name = os.path.join(path,name.lower().replace(old,new))\n",
    "            os.rename(file_path, new_name)\n",
    "            print(new_name)"
   ]
  },
  {
   "cell_type": "code",
   "execution_count": null,
   "metadata": {},
   "outputs": [],
   "source": []
  }
 ],
 "metadata": {
  "kernelspec": {
   "display_name": "Python 3",
   "language": "python",
   "name": "python3"
  },
  "language_info": {
   "codemirror_mode": {
    "name": "ipython",
    "version": 3
   },
   "file_extension": ".py",
   "mimetype": "text/x-python",
   "name": "python",
   "nbconvert_exporter": "python",
   "pygments_lexer": "ipython3",
   "version": "3.6.0"
  }
 },
 "nbformat": 4,
 "nbformat_minor": 2
}
